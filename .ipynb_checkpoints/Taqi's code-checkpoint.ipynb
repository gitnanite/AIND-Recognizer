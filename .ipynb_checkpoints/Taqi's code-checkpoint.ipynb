{
 "cells": [
  {
   "cell_type": "code",
   "execution_count": 1,
   "metadata": {
    "collapsed": true
   },
   "outputs": [],
   "source": [
    "rows = 'ABCDEFGHI'\n",
    "cols = '123456789'\n",
    "\n",
    "def cross(a, b):\n",
    "    return [s+t for s in a for t in b]\n",
    "\n",
    "boxes = cross(rows, cols)\n",
    "\n",
    "row_units = [cross(r, cols) for r in rows]\n",
    "column_units = [cross(rows, c) for c in cols]\n",
    "square_units = [cross(rs, cs) for rs in ('ABC','DEF','GHI') for cs in ('123','456','789')]\n",
    "unitlist = row_units + column_units + square_units\n",
    "units = dict((s, [u for u in unitlist if s in u]) for s in boxes)\n",
    "peers = dict((s, set(sum(units[s],[]))-set([s])) for s in boxes)\n",
    "\n",
    "def display(values):\n",
    "    \"\"\"\n",
    "    Display the values as a 2-D grid.\n",
    "    Input: The sudoku in dictionary form\n",
    "    Output: None\n",
    "    \"\"\"\n",
    "    width = 1+max(len(values[s]) for s in boxes)\n",
    "    line = '+'.join(['-'*(width*3)]*3)\n",
    "    for r in rows:\n",
    "        print(''.join(values[r+c].center(width)+('|' if c in '36' else '')\n",
    "                      for c in cols))\n",
    "        if r in 'CF': print(line)\n",
    "    return\n",
    "\n",
    "def grid_values(grid):\n",
    "    \"\"\"\n",
    "    Convert grid into a dict of {square: char} with '123456789' for empties.\n",
    "    Input: A grid in string form.\n",
    "    Output: A grid in dictionary form\n",
    "            Keys: The boxes, e.g., 'A1'\n",
    "            Values: The value in each box, e.g., '8'. If the box has no value, then the value will be '123456789'.\n",
    "    \"\"\"\n",
    "    chars = []\n",
    "    digits = '123456789'\n",
    "    for c in grid:\n",
    "        if c in digits:\n",
    "            chars.append(c)\n",
    "        if c == '.':\n",
    "            chars.append(digits)\n",
    "    assert len(chars) == 81\n",
    "    return dict(zip(boxes, chars))\n"
   ]
  },
  {
   "cell_type": "code",
   "execution_count": 170,
   "metadata": {
    "collapsed": false
   },
   "outputs": [],
   "source": [
    "def only_choice(values):\n",
    "    \"\"\"Finalize all values that are the only choice for a unit.\n",
    "\n",
    "    Go through all the units, and whenever there is a unit with a value\n",
    "    that only fits in one box, assign the value to this box.\n",
    "\n",
    "    Input: Sudoku in dictionary form.\n",
    "    Output: Resulting Sudoku in dictionary form after filling in only choices.\n",
    "    \"\"\"\n",
    "    # TODO: Implement only choice strategy here\n",
    "    peers_vals = \"\"\n",
    "    for key in values.keys():\n",
    "        if len(str(values[key])) > 1:\n",
    "            for peer in peers[key]:\n",
    "                peers_vals = peers_vals + str(values[peer])\n",
    "            for digit in values[key]:\n",
    "                if digit not in str(peers_vals):\n",
    "                    values[key] = digit\n",
    "            peers_vals = \"\"\n",
    "    return values"
   ]
  },
  {
   "cell_type": "code",
   "execution_count": 171,
   "metadata": {
    "collapsed": false
   },
   "outputs": [
    {
     "name": "stdout",
     "output_type": "stream",
     "text": [
      "{'B8': '0', 'H1': '0', 'C7': '9', 'B3': '6', 'D3': '2379', 'G9': '5', 'G8': '0', 'B9': '0', 'A3': '0', 'G7': '0', 'G6': '0', 'G5': '2', 'G4': '0', 'G3': '1', 'G2': '8', 'G1': '0', 'B5': '3', 'I1': '0', 'I3': '23', 'I2': '0', 'I5': '5', 'I4': '0', 'I7': '0', 'I6': '0', 'A1': '0', 'C9': '1', 'C8': '0', 'A5': '0', 'E8': '0', 'A7': '7', 'A6': '0', 'E5': '347', 'C2': '0', 'C1': '3', 'E6': '0', 'E1': '8', 'A2': '0', 'C5': '0', 'A4': '0', 'I9': '0', 'B2': '0', 'I8': '7', 'H2': '0', 'D9': '6', 'F2': '0', 'D5': '0', 'C3': '0', 'A9': '0', 'C6': '0', 'E4': '6', 'B1': '0', 'E7': '345', 'F1': '6', 'H8': '2', 'H9': '0', 'F4': '0', 'F5': '8', 'F6': '0', 'F7': '35', 'F8': '9', 'H3': '5', 'F3': '0', 'H6': '0', 'H7': '0', 'H4': '7', 'H5': '0', 'B4': '0', 'A8': '6', 'B6': '2', 'B7': '0', 'E9': '0', 'E3': '379', 'D8': '8', 'F9': '0', 'D6': '0', 'D7': '0', 'D4': '0', 'C4': '0', 'D2': '0', 'E2': '37', 'D1': '5'}\n"
     ]
    }
   ],
   "source": [
    "print only_choice({'I6': '0', 'H9': '0', 'I2': '0', 'E8': '0', 'H3': '5', 'H7': '0', 'I7': '0', 'I4': '0',\n",
    "                            'H5': '0', 'F9': '0', 'G7': '0', 'G6': '0', 'G5': '2', 'E1': '8', 'G3': '1', 'G2': '8',\n",
    "                            'G1': '0', 'I1': '0', 'C8': '0', 'I3': '23', 'E5': '347', 'I5': '5', 'C9': '1', 'G9': '5',\n",
    "                            'G8': '0', 'A1': '0', 'A3': '0', 'A2': '0', 'A5': '0', 'A4': '0', 'A7': '27',\n",
    "                            'A6': '0', 'C3': '0', 'C2': '0', 'C1': '23', 'E6': '0', 'C7': '9', 'C6': '0',\n",
    "                            'C5': '0', 'C4': '0', 'I9': '0', 'D8': '8', 'I8': '7', 'E4': '6', 'D9': '6', 'H8': '2',\n",
    "                            'F6': '0', 'A9': '0', 'G4': '0', 'A8': '6', 'E7': '345', 'E3': '379', 'F1': '6',\n",
    "                            'F2': '0', 'F3': '0', 'F4': '0', 'F5': '8', 'E2': '37', 'F7': '35', 'F8': '9',\n",
    "                            'D2': '0', 'H1': '0', 'H6': '0', 'H2': '0', 'H4': '17', 'D3': '2379', 'B4': '0',\n",
    "                            'B5': '3', 'B6': '230', 'B7': '0', 'E9': '0', 'B1': '0', 'B2': '0', 'B3': '6', 'D6': '0',\n",
    "                            'D7': '0', 'D4': '0', 'D5': '0', 'B8': '0', 'B9': '0', 'D1': '5'})"
   ]
  },
  {
   "cell_type": "code",
   "execution_count": 271,
   "metadata": {
    "collapsed": true
   },
   "outputs": [],
   "source": [
    "def only_choice2(values):\n",
    "    \"\"\"\n",
    "    This code was taked from quiz solutions in the lesson.\n",
    "    \"\"\"\n",
    "    for unit in unitlist:\n",
    "        for digit in '123456789':\n",
    "            dplaces = [box for box in unit if digit in values[box]]\n",
    "            if len(dplaces) == 1:\n",
    "                values[dplaces[0]] = digit\n",
    "    return values"
   ]
  },
  {
   "cell_type": "code",
   "execution_count": 272,
   "metadata": {
    "collapsed": false
   },
   "outputs": [
    {
     "data": {
      "text/plain": [
       "{'A1': '0',\n",
       " 'A2': '0',\n",
       " 'A3': '0',\n",
       " 'A4': '0',\n",
       " 'A5': '0',\n",
       " 'A6': '0',\n",
       " 'A7': '2',\n",
       " 'A8': '6',\n",
       " 'A9': '0',\n",
       " 'B1': '0',\n",
       " 'B2': '0',\n",
       " 'B3': '6',\n",
       " 'B4': '0',\n",
       " 'B5': '3',\n",
       " 'B6': '2',\n",
       " 'B7': '0',\n",
       " 'B8': '0',\n",
       " 'B9': '0',\n",
       " 'C1': '2',\n",
       " 'C2': '0',\n",
       " 'C3': '0',\n",
       " 'C4': '0',\n",
       " 'C5': '0',\n",
       " 'C6': '0',\n",
       " 'C7': '9',\n",
       " 'C8': '0',\n",
       " 'C9': '1',\n",
       " 'D1': '5',\n",
       " 'D2': '0',\n",
       " 'D3': '1',\n",
       " 'D4': '0',\n",
       " 'D5': '0',\n",
       " 'D6': '0',\n",
       " 'D7': '0',\n",
       " 'D8': '8',\n",
       " 'D9': '6',\n",
       " 'E1': '0',\n",
       " 'E2': '3',\n",
       " 'E3': '0',\n",
       " 'E4': '6',\n",
       " 'E5': '4',\n",
       " 'E6': '0',\n",
       " 'E7': '5',\n",
       " 'E8': '0',\n",
       " 'E9': '0',\n",
       " 'F1': '6',\n",
       " 'F2': '0',\n",
       " 'F3': '0',\n",
       " 'F4': '0',\n",
       " 'F5': '8',\n",
       " 'F6': '0',\n",
       " 'F7': '3',\n",
       " 'F8': '9',\n",
       " 'F9': '0',\n",
       " 'G1': '0',\n",
       " 'G2': '8',\n",
       " 'G3': '1',\n",
       " 'G4': '0',\n",
       " 'G5': '2',\n",
       " 'G6': '0',\n",
       " 'G7': '0',\n",
       " 'G8': '0',\n",
       " 'G9': '5',\n",
       " 'H1': '0',\n",
       " 'H2': '0',\n",
       " 'H3': '5',\n",
       " 'H4': '1',\n",
       " 'H5': '0',\n",
       " 'H6': '0',\n",
       " 'H7': '0',\n",
       " 'H8': '2',\n",
       " 'H9': '0',\n",
       " 'I1': '0',\n",
       " 'I2': '0',\n",
       " 'I3': '0',\n",
       " 'I4': '0',\n",
       " 'I5': '5',\n",
       " 'I6': '0',\n",
       " 'I7': '0',\n",
       " 'I8': '7',\n",
       " 'I9': '0'}"
      ]
     },
     "execution_count": 272,
     "metadata": {},
     "output_type": "execute_result"
    }
   ],
   "source": [
    "only_choice2({'I6': '0', 'H9': '0', 'I2': '0', 'E8': '0', 'H3': '5', 'H7': '0', 'I7': '0', 'I4': '0',\n",
    "                            'H5': '0', 'F9': '0', 'G7': '0', 'G6': '0', 'G5': '2', 'E1': '0', 'G3': '1', 'G2': '8',\n",
    "                            'G1': '0', 'I1': '0', 'C8': '0', 'I3': '0', 'E5': '347', 'I5': '5', 'C9': '1', 'G9': '5',\n",
    "                            'G8': '0', 'A1': '0', 'A3': '0', 'A2': '0', 'A5': '0', 'A4': '0', 'A7': '27',\n",
    "                            'A6': '0', 'C3': '0', 'C2': '0', 'C1': '23', 'E6': '0', 'C7': '9', 'C6': '0',\n",
    "                            'C5': '0', 'C4': '0', 'I9': '0', 'D8': '8', 'I8': '7', 'E4': '6', 'D9': '6', 'H8': '2',\n",
    "                            'F6': '0', 'A9': '0', 'G4': '0', 'A8': '6', 'E7': '345', 'E3': '0', 'F1': '6',\n",
    "                            'F2': '0', 'F3': '0', 'F4': '0', 'F5': '8', 'E2': '37', 'F7': '35', 'F8': '9',\n",
    "                            'D2': '0', 'H1': '0', 'H6': '0', 'H2': '0', 'H4': '17', 'D3': '15369', 'B4': '0',\n",
    "                            'B5': '3', 'B6': '230', 'B7': '0', 'E9': '0', 'B1': '0', 'B2': '0', 'B3': '6', 'D6': '0',\n",
    "                            'D7': '0', 'D4': '0', 'D5': '0', 'B8': '0', 'B9': '0', 'D1': '5'})"
   ]
  },
  {
   "cell_type": "code",
   "execution_count": 392,
   "metadata": {
    "collapsed": false
   },
   "outputs": [],
   "source": [
    "def only_choice3(values):\n",
    "    peers_vals = ''\n",
    "    nfdigit =''\n",
    "    testlen = 0\n",
    "    peers_vals6 = ''\n",
    "    peer6=''\n",
    "    digit6 = ''\n",
    "    for key in values.keys():\n",
    "        peers_vals = \"\"\n",
    "        if len(values[key]) >1:\n",
    "            testlen = len(values['B6'])\n",
    "            if key == 'B6':\n",
    "                peers6=values[key]\n",
    "            for peer in peers[key]:\n",
    "                peers_vals = values[peer]\n",
    "                \n",
    "            for digit in values[key]:\n",
    "                if key == 'B6':\n",
    "                    digit6 = digit\n",
    "                    peers_vals6 = peers_vals\n",
    "                    \n",
    "                if digit not in peers_vals:\n",
    "                    if key == 'B6':\n",
    "                        peer6=values[peer]\n",
    "                        nfdigit += digit\n",
    "                        peers_vals6 = peers_vals\n",
    "                    values[key] = digit\n",
    "                        #peers_vals = \"\"\n",
    "    return 'digit6:'+digit6+' f:'+peers6"
   ]
  },
  {
   "cell_type": "code",
   "execution_count": 393,
   "metadata": {
    "collapsed": false
   },
   "outputs": [
    {
     "data": {
      "text/plain": [
       "'digit6:0 f:230'"
      ]
     },
     "execution_count": 393,
     "metadata": {},
     "output_type": "execute_result"
    }
   ],
   "source": [
    "only_choice3({'I6': '0', 'H9': '0', 'I2': '0', 'E8': '0', 'H3': '5', 'H7': '0', 'I7': '0', 'I4': '0',\n",
    "                            'H5': '0', 'F9': '0', 'G7': '0', 'G6': '0', 'G5': '2', 'E1': '0', 'G3': '1', 'G2': '8',\n",
    "                            'G1': '0', 'I1': '0', 'C8': '0', 'I3': '0', 'E5': '347', 'I5': '5', 'C9': '1', 'G9': '5',\n",
    "                            'G8': '0', 'A1': '0', 'A3': '0', 'A2': '0', 'A5': '0', 'A4': '0', 'A7': '27',\n",
    "                            'A6': '0', 'C3': '0', 'C2': '0', 'C1': '23', 'E6': '0', 'C7': '9', 'C6': '0',\n",
    "                            'C5': '0', 'C4': '0', 'I9': '0', 'D8': '8', 'I8': '7', 'E4': '6', 'D9': '6', 'H8': '2',\n",
    "                            'F6': '0', 'A9': '0', 'G4': '0', 'A8': '6', 'E7': '345', 'E3': '0', 'F1': '6',\n",
    "                            'F2': '0', 'F3': '0', 'F4': '0', 'F5': '8', 'E2': '37', 'F7': '35', 'F8': '9',\n",
    "                            'D2': '0', 'H1': '0', 'H6': '0', 'H2': '0', 'H4': '17', 'D3': '1237', 'B4': '0',\n",
    "                            'B5': '3', 'B6': '230', 'B7': '0', 'E9': '0', 'B1': '0', 'B2': '0', 'B3': '6', 'D6': '0',\n",
    "                            'D7': '0', 'D4': '0', 'D5': '0', 'B8': '0', 'B9': '0', 'D1': '5'})"
   ]
  },
  {
   "cell_type": "code",
   "execution_count": null,
   "metadata": {
    "collapsed": true
   },
   "outputs": [],
   "source": []
  }
 ],
 "metadata": {
  "kernelspec": {
   "display_name": "Python 2",
   "language": "python",
   "name": "python2"
  },
  "language_info": {
   "codemirror_mode": {
    "name": "ipython",
    "version": 2
   },
   "file_extension": ".py",
   "mimetype": "text/x-python",
   "name": "python",
   "nbconvert_exporter": "python",
   "pygments_lexer": "ipython2",
   "version": "2.7.13"
  }
 },
 "nbformat": 4,
 "nbformat_minor": 2
}
